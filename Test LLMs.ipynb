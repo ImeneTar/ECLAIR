{
 "cells": [
  {
   "cell_type": "code",
   "execution_count": 1,
   "id": "0b4bccef",
   "metadata": {},
   "outputs": [],
   "source": [
    "from openai import OpenAI\n",
    "import re\n",
    "import pandas as pd\n",
    "import numpy as np\n",
    "import matplotlib.pyplot as plt\n"
   ]
  },
  {
   "cell_type": "code",
   "execution_count": 2,
   "id": "f9896200",
   "metadata": {},
   "outputs": [],
   "source": [
    "def get_feedback(text):\n",
    "    lines = [line.strip().strip('\"') for line in text.strip().split('\\n')]\n",
    "    evaluative = None\n",
    "    corrective = None\n",
    "    advice = None\n",
    "\n",
    "    delimiters = \"=\", \" =\",\"= \", \":\"\n",
    "    regex_pattern = '|'.join(map(re.escape, delimiters))\n",
    "\n",
    "\n",
    "    for line in lines:\n",
    "        key, value = re.split(regex_pattern, line)\n",
    "        #key, value = line.split('=', ':')\n",
    "        if key == \"Evaluative\":\n",
    "            evaluative = value.replace(\" \", \"\")\n",
    "            matches = re.findall(r'-?\\d+', evaluative)\n",
    "            if matches:\n",
    "                # Return the first match as an integer\n",
    "                evaluative = matches[0]\n",
    "            else:\n",
    "                # Return None if no integer is found\n",
    "                evaluative = 'None'\n",
    "        elif key == \"Corrective\":\n",
    "            corrective = value.replace(\" \", \"\")\n",
    "            matches = re.findall(r'-?\\d+', corrective)\n",
    "            if matches:\n",
    "                # Return the first match as an integer\n",
    "                corrective = matches[0]\n",
    "            else:\n",
    "                corrective = 'None'\n",
    "\n",
    "        elif key == \"Advice\":\n",
    "            advice = value.replace(\" \", \"\")\n",
    "            matches = re.findall(r'-?\\d+', advice)\n",
    "            if matches:\n",
    "                # Return the first match as an integer\n",
    "                advice = matches[0]\n",
    "            else:\n",
    "                advice = 'None'\n",
    "\n",
    "    return evaluative, corrective, advice\n"
   ]
  },
  {
   "cell_type": "code",
   "execution_count": 38,
   "id": "e80d6249",
   "metadata": {},
   "outputs": [],
   "source": [
    "def get_interpretation(client, feedback):\n",
    "    completion = client.chat.completions.create(\n",
    "    model=\"gpt-3.5-turbo\",\n",
    "    temperature=0,\n",
    "    messages=[\n",
    "    {\"role\": \"system\", \"content\": prompt},\n",
    "    {\"role\": \"user\", \"content\": feedback}\n",
    "    ]\n",
    "    )\n",
    "    return completion.choices[0].message"
   ]
  },
  {
   "cell_type": "code",
   "execution_count": 39,
   "id": "96965cd0",
   "metadata": {},
   "outputs": [],
   "source": [
    "def interpret_examples(client, examples):\n",
    "    evaluative_estim = []\n",
    "    corrective_estim = []\n",
    "    guidance_estim = []\n",
    "    \n",
    "    for i in range(len(examples)):\n",
    "        interpretation = get_interpretation(client, examples[i])\n",
    "        evaluative, corrective, advice = get_feedback(interpretation.content)\n",
    "        evaluative_estim.append(evaluative)\n",
    "        corrective_estim.append(corrective)\n",
    "        guidance_estim.append(advice)\n",
    "    \n",
    "    return evaluative_estim, corrective_estim, guidance_estim"
   ]
  },
  {
   "cell_type": "code",
   "execution_count": 40,
   "id": "790e7348",
   "metadata": {},
   "outputs": [],
   "source": [
    "client = OpenAI(api_key=\"xxxx\")#insert openai api key"
   ]
  },
  {
   "cell_type": "code",
   "execution_count": 3,
   "id": "6c74265c",
   "metadata": {},
   "outputs": [],
   "source": [
    "df = pd.read_excel('datasets/examples.xlsx')"
   ]
  },
  {
   "cell_type": "code",
   "execution_count": 4,
   "id": "d94d5358",
   "metadata": {
    "scrolled": false
   },
   "outputs": [
    {
     "data": {
      "text/html": [
       "<div>\n",
       "<style scoped>\n",
       "    .dataframe tbody tr th:only-of-type {\n",
       "        vertical-align: middle;\n",
       "    }\n",
       "\n",
       "    .dataframe tbody tr th {\n",
       "        vertical-align: top;\n",
       "    }\n",
       "\n",
       "    .dataframe thead th {\n",
       "        text-align: right;\n",
       "    }\n",
       "</style>\n",
       "<table border=\"1\" class=\"dataframe\">\n",
       "  <thead>\n",
       "    <tr style=\"text-align: right;\">\n",
       "      <th></th>\n",
       "      <th>instance</th>\n",
       "      <th>evaluative</th>\n",
       "      <th>corrective</th>\n",
       "      <th>guidance</th>\n",
       "    </tr>\n",
       "  </thead>\n",
       "  <tbody>\n",
       "    <tr>\n",
       "      <th>0</th>\n",
       "      <td>Action=2, Wrong move, you should have picked u...</td>\n",
       "      <td>-1</td>\n",
       "      <td>4</td>\n",
       "      <td>0</td>\n",
       "    </tr>\n",
       "    <tr>\n",
       "      <th>1</th>\n",
       "      <td>Action=3, Perfect, now place the cube down here.</td>\n",
       "      <td>1</td>\n",
       "      <td>None</td>\n",
       "      <td>5</td>\n",
       "    </tr>\n",
       "    <tr>\n",
       "      <th>2</th>\n",
       "      <td>Action=4, Not yet,  move right.</td>\n",
       "      <td>-1</td>\n",
       "      <td>3</td>\n",
       "      <td>3</td>\n",
       "    </tr>\n",
       "    <tr>\n",
       "      <th>3</th>\n",
       "      <td>Action=5, That’s not right!</td>\n",
       "      <td>-1</td>\n",
       "      <td>None</td>\n",
       "      <td>None</td>\n",
       "    </tr>\n",
       "    <tr>\n",
       "      <th>4</th>\n",
       "      <td>Action=1, Excellent, keep going down.</td>\n",
       "      <td>1</td>\n",
       "      <td>None</td>\n",
       "      <td>1</td>\n",
       "    </tr>\n",
       "    <tr>\n",
       "      <th>5</th>\n",
       "      <td>Action=0, Okay, now you need to go right.</td>\n",
       "      <td>0</td>\n",
       "      <td>None</td>\n",
       "      <td>3</td>\n",
       "    </tr>\n",
       "    <tr>\n",
       "      <th>6</th>\n",
       "      <td>Action=2, This isn't working, try to move up.</td>\n",
       "      <td>-1</td>\n",
       "      <td>None</td>\n",
       "      <td>0</td>\n",
       "    </tr>\n",
       "    <tr>\n",
       "      <th>7</th>\n",
       "      <td>Action=3, You’re on the right track!</td>\n",
       "      <td>1</td>\n",
       "      <td>None</td>\n",
       "      <td>None</td>\n",
       "    </tr>\n",
       "    <tr>\n",
       "      <th>8</th>\n",
       "      <td>Action=4, There’s nothing to pick here. Go down.</td>\n",
       "      <td>-1</td>\n",
       "      <td>None</td>\n",
       "      <td>1</td>\n",
       "    </tr>\n",
       "    <tr>\n",
       "      <th>9</th>\n",
       "      <td>Action=1, Now move left to get closer to the c...</td>\n",
       "      <td>0</td>\n",
       "      <td>None</td>\n",
       "      <td>2</td>\n",
       "    </tr>\n",
       "    <tr>\n",
       "      <th>10</th>\n",
       "      <td>Action=0, Not the best move, should’ve gone ri...</td>\n",
       "      <td>-1</td>\n",
       "      <td>3</td>\n",
       "      <td>None</td>\n",
       "    </tr>\n",
       "    <tr>\n",
       "      <th>11</th>\n",
       "      <td>Action=2, Now, you’re getting it, continue thi...</td>\n",
       "      <td>1</td>\n",
       "      <td>None</td>\n",
       "      <td>2</td>\n",
       "    </tr>\n",
       "    <tr>\n",
       "      <th>12</th>\n",
       "      <td>Action=1, Nope, you’re moving away from the go...</td>\n",
       "      <td>-1</td>\n",
       "      <td>None</td>\n",
       "      <td>0</td>\n",
       "    </tr>\n",
       "    <tr>\n",
       "      <th>13</th>\n",
       "      <td>Action=3, Almost there, just need to pick up t...</td>\n",
       "      <td>1</td>\n",
       "      <td>None</td>\n",
       "      <td>4</td>\n",
       "    </tr>\n",
       "    <tr>\n",
       "      <th>14</th>\n",
       "      <td>Action=5, Good job,  move up next.</td>\n",
       "      <td>1</td>\n",
       "      <td>None</td>\n",
       "      <td>0</td>\n",
       "    </tr>\n",
       "    <tr>\n",
       "      <th>15</th>\n",
       "      <td>Action=4, You shouldn't have done that, go left.</td>\n",
       "      <td>-1</td>\n",
       "      <td>2</td>\n",
       "      <td>2</td>\n",
       "    </tr>\n",
       "    <tr>\n",
       "      <th>16</th>\n",
       "      <td>Action=2, Well done, you need to go down now.</td>\n",
       "      <td>1</td>\n",
       "      <td>None</td>\n",
       "      <td>1</td>\n",
       "    </tr>\n",
       "    <tr>\n",
       "      <th>17</th>\n",
       "      <td>Action=0, Incorrect, you were supposed to put ...</td>\n",
       "      <td>-1</td>\n",
       "      <td>5</td>\n",
       "      <td>None</td>\n",
       "    </tr>\n",
       "    <tr>\n",
       "      <th>18</th>\n",
       "      <td>Action=3, Why are you going that way? Head bac...</td>\n",
       "      <td>-1</td>\n",
       "      <td>None</td>\n",
       "      <td>2</td>\n",
       "    </tr>\n",
       "    <tr>\n",
       "      <th>19</th>\n",
       "      <td>Action=1, That’s it! Now carefully pick up the...</td>\n",
       "      <td>1</td>\n",
       "      <td>None</td>\n",
       "      <td>4</td>\n",
       "    </tr>\n",
       "  </tbody>\n",
       "</table>\n",
       "</div>"
      ],
      "text/plain": [
       "                                             instance  evaluative corrective  \\\n",
       "0   Action=2, Wrong move, you should have picked u...          -1          4   \n",
       "1    Action=3, Perfect, now place the cube down here.           1       None   \n",
       "2                     Action=4, Not yet,  move right.          -1          3   \n",
       "3                         Action=5, That’s not right!          -1       None   \n",
       "4               Action=1, Excellent, keep going down.           1       None   \n",
       "5           Action=0, Okay, now you need to go right.           0       None   \n",
       "6       Action=2, This isn't working, try to move up.          -1       None   \n",
       "7                Action=3, You’re on the right track!           1       None   \n",
       "8    Action=4, There’s nothing to pick here. Go down.          -1       None   \n",
       "9   Action=1, Now move left to get closer to the c...           0       None   \n",
       "10  Action=0, Not the best move, should’ve gone ri...          -1          3   \n",
       "11  Action=2, Now, you’re getting it, continue thi...           1       None   \n",
       "12  Action=1, Nope, you’re moving away from the go...          -1       None   \n",
       "13  Action=3, Almost there, just need to pick up t...           1       None   \n",
       "14                 Action=5, Good job,  move up next.           1       None   \n",
       "15   Action=4, You shouldn't have done that, go left.          -1          2   \n",
       "16      Action=2, Well done, you need to go down now.           1       None   \n",
       "17  Action=0, Incorrect, you were supposed to put ...          -1          5   \n",
       "18  Action=3, Why are you going that way? Head bac...          -1       None   \n",
       "19  Action=1, That’s it! Now carefully pick up the...           1       None   \n",
       "\n",
       "   guidance  \n",
       "0         0  \n",
       "1         5  \n",
       "2         3  \n",
       "3      None  \n",
       "4         1  \n",
       "5         3  \n",
       "6         0  \n",
       "7      None  \n",
       "8         1  \n",
       "9         2  \n",
       "10     None  \n",
       "11        2  \n",
       "12        0  \n",
       "13        4  \n",
       "14        0  \n",
       "15        2  \n",
       "16        1  \n",
       "17     None  \n",
       "18        2  \n",
       "19        4  "
      ]
     },
     "execution_count": 4,
     "metadata": {},
     "output_type": "execute_result"
    }
   ],
   "source": [
    "df"
   ]
  },
  {
   "cell_type": "markdown",
   "id": "4a464351",
   "metadata": {},
   "source": [
    "### Few-shot Vs Zero-shot prompting"
   ]
  },
  {
   "cell_type": "markdown",
   "id": "b111d518",
   "metadata": {},
   "source": [
    "#### Few-shot"
   ]
  },
  {
   "cell_type": "code",
   "execution_count": 80,
   "id": "9f3585bd",
   "metadata": {},
   "outputs": [],
   "source": [
    "prompt = (\"You are working with a discrete Markov Decision Process (MDP) environment that simulates a gridworld. The agent navigates this grid to pick a cube and place it in a specific location. The agent has a set of actions available: \\\\\"\n",
    "          \"Action Space: The agent can move up (action 0), down (action 1), left (action 2), or right (action 3), pick up the cube (action 4), and put down the cube (action 5).)\"\n",
    "          \"Your task is to interpret natural language feedback given in response to the agent's past actions, converting this feedback into a structured format for each variable: evaluative feedback, corrective feedback, and advice for future actions. It's crucial to consider both the current feedback and any relevant past feedback when making your interpretations.\"\n",
    "          \"Here’s how to structure your responses:\"\n",
    "          \"Evaluative: Assign a numerical value based on the sentiment of the feedback:) +1 for positive feedback (indicating the action was good or correct). -1 for negative feedback (indicating the action was bad or incorrect). 0 if the feedback is neutral or if no explicit evaluative feedback is given.\"\n",
    "           \"Corrective: If the past action was incorrect, specify the action that should have been taken instead, choosing from the defined action space (0, 1, 2, 3, 4, 5). This feedback is focused on the past action only. If the sentiment of the feedback is correct or neutral, or no alternative action is implied, corrective feedback should be None. \"\n",
    "          \"Advice: Provide a suggestion for the next action the agent should take by assiging the correspondant value from the action space choosing from the defined action space (0, 1, 2, 3, 4, 5) . If the feedback does not imply a specific next action or is focused solely on correcting a past mistake without suggesting a next move, Advice should be None.\"\n",
    "          \"The output should follow the following format: 'Evaluative={value} \\n Corrective={value} \\n Advice={value}'\" \n",
    "          \"Example:\"\\\n",
    "          \"Given Feedback: \"\"Action=0, No, turn left  \"\"\"\\\n",
    "          \"Evaluative=-1 \\n Corrective=None (no correction for past action) \\n Advice=2\" \\\n",
    "          \"Given Feedback: \"\"Action=1, Now go up \"\"\"\\\n",
    "          \"Evaluative=0 \\n Corrective=None \\n Advice=0\"\\\n",
    "          \"Given Feedback: \"\"Action=0, yes ,turn left\"\"\"\\\n",
    "          \"Evaluative=1 \\n Corrective=None \\n Advice=2\"\\\n",
    "          \"Given Feedback: \"\"Action=0, No, you should have turned left\"\"\"\\\n",
    "          \"Evaluative=-1 \\n Corrective=2 \\n Advice=None (no advice for next action is given)\"\\\n",
    "          \"Given Feedback: \"\"Action=4, Yeah!\"\"\"\\\n",
    "          \"Evaluative=1 \\n Corrective=0 \\n Advice=None (no advice for next action is given)\"\\\n",
    "          \"Given Feedback: \"\"Action=1, Continue like this!\"\"\"\\\n",
    "          \"Evaluative=1 \\n Corrective=0 \\n Advice=1 (same as previous action)\")\n"
   ]
  },
  {
   "cell_type": "code",
   "execution_count": 81,
   "id": "2fbaf6d1",
   "metadata": {},
   "outputs": [],
   "source": [
    "evaluative_estim, corrective_estim, guidance_estim = interpret_examples(client, df['instance']) \n",
    "\n",
    "evaluative_few_precision_0 = np.where(df['evaluative'].astype(str) == evaluative_estim, 1, 0)\n",
    "corrective_few_precision_0 = np.where(df['corrective'].astype(str) == corrective_estim, 1, 0)\n",
    "guidance_few_precision_0 = np.where(df['guidance'].astype(str) == guidance_estim, 1, 0)\n"
   ]
  },
  {
   "cell_type": "code",
   "execution_count": 82,
   "id": "504a1f86",
   "metadata": {},
   "outputs": [],
   "source": [
    "evaluative_estim, corrective_estim, guidance_estim = interpret_examples(client, df['instance']) \n",
    "\n",
    "evaluative_few_precision_1 = np.where(df['evaluative'].astype(str) == evaluative_estim, 1, 0)\n",
    "corrective_few_precision_1 = np.where(df['corrective'].astype(str) == corrective_estim, 1, 0)\n",
    "guidance_few_precision_1 = np.where(df['guidance'].astype(str) == guidance_estim, 1, 0)\n"
   ]
  },
  {
   "cell_type": "code",
   "execution_count": 83,
   "id": "6b1e99a2",
   "metadata": {},
   "outputs": [],
   "source": [
    "evaluative_estim, corrective_estim, guidance_estim = interpret_examples(client, df['instance']) \n",
    "\n",
    "evaluative_few_precision_2 = np.where(df['evaluative'].astype(str) == evaluative_estim, 1, 0)\n",
    "corrective_few_precision_2 = np.where(df['corrective'].astype(str) == corrective_estim, 1, 0)\n",
    "guidance_few_precision_2 = np.where(df['guidance'].astype(str) == guidance_estim, 1, 0)\n"
   ]
  },
  {
   "cell_type": "code",
   "execution_count": 84,
   "id": "fb85ab6e",
   "metadata": {},
   "outputs": [],
   "source": [
    "evaluative_few_precision = (evaluative_few_precision_0 + evaluative_few_precision_1 + evaluative_few_precision_2) / 3\n",
    "evaluative_few_precision_mean = evaluative_few_precision.mean()\n",
    "evaluative_few_precision_std = evaluative_few_precision.std()"
   ]
  },
  {
   "cell_type": "code",
   "execution_count": 85,
   "id": "d2214f7e",
   "metadata": {},
   "outputs": [],
   "source": [
    "corrective_few_precision = (corrective_few_precision_0 + corrective_few_precision_1 + corrective_few_precision_2) / 3\n",
    "corrective_few_precision_mean = corrective_few_precision.mean()\n",
    "corrective_few_precision_std = corrective_few_precision.std()"
   ]
  },
  {
   "cell_type": "code",
   "execution_count": 86,
   "id": "14cda5af",
   "metadata": {},
   "outputs": [],
   "source": [
    "guidance_few_precision = (guidance_few_precision_0 + guidance_few_precision_1 + guidance_few_precision_2) / 3\n",
    "guidance_few_precision_mean = guidance_few_precision.mean()\n",
    "guidance_few_precision_std = guidance_few_precision.std()"
   ]
  },
  {
   "cell_type": "markdown",
   "id": "875631a1",
   "metadata": {},
   "source": [
    "#### Zero-shot"
   ]
  },
  {
   "cell_type": "code",
   "execution_count": 87,
   "id": "df75628f",
   "metadata": {},
   "outputs": [],
   "source": [
    "prompt = (\"You are working with a discrete Markov Decision Process (MDP) environment that simulates a gridworld. The agent navigates this grid to pick a cube and place it in a specific location. The agent has a set of actions available: \\\\\"\n",
    "          \"Action Space: The agent can move up (action 0), down (action 1), left (action 2), or right (action 3), pick up the cube (action 4), and put down the cube (action 5).)\"\n",
    "          \"Your task is to interpret natural language feedback given in response to the agent's past actions, converting this feedback into a structured format for each variable: evaluative feedback, corrective feedback, and advice for future actions. It's crucial to consider both the current feedback and any relevant past feedback when making your interpretations.\"\n",
    "          \"Here’s how to structure your responses:\"\n",
    "          \"Evaluative: Assign a numerical value based on the sentiment of the feedback:) +1 for positive feedback (indicating the action was good or correct). -1 for negative feedback (indicating the action was bad or incorrect). 0 if the feedback is neutral or if no explicit evaluative feedback is given.\"\n",
    "          \"Corrective: If the past action was incorrect, specify the action that should have been taken instead, choosing from the defined action space (0, 1, 2, 3, 4, 5). This feedback is focused on the past action only. If the sentiment of the feedback is correct or neutral, or no alternative action is implied, corrective feedback should be None. \"\n",
    "          \"Advice: Provide a suggestion for the next action the agent should take by assiging the correspondant value from the action space choosing from the defined action space (0, 1, 2, 3, 4, 5) . If the feedback does not imply a specific next action or is focused solely on correcting a past mistake without suggesting a next move, Advice should be None.\"\n",
    "          \"The output should follow the following format: 'Evaluative={value} \\n Corrective={value} \\n Advice={value}'\" )\n"
   ]
  },
  {
   "cell_type": "code",
   "execution_count": 88,
   "id": "63c0933f",
   "metadata": {},
   "outputs": [],
   "source": [
    "evaluative_estim, corrective_estim, guidance_estim = interpret_examples(client, df['instance']) \n",
    "\n",
    "evaluative_zero_precision_0 = np.where(df['evaluative'].astype(str) == evaluative_estim, 1, 0)\n",
    "corrective_zero_precision_0 = np.where(df['corrective'].astype(str) == corrective_estim, 1, 0)\n",
    "guidance_zero_precision_0 = np.where(df['guidance'].astype(str) == guidance_estim, 1, 0)\n"
   ]
  },
  {
   "cell_type": "code",
   "execution_count": 89,
   "id": "47b3e540",
   "metadata": {},
   "outputs": [],
   "source": [
    "evaluative_estim, corrective_estim, guidance_estim = interpret_examples(client, df['instance']) \n",
    "\n",
    "evaluative_zero_precision_1 = np.where(df['evaluative'].astype(str) == evaluative_estim, 1, 0)\n",
    "corrective_zero_precision_1 = np.where(df['corrective'].astype(str) == corrective_estim, 1, 0)\n",
    "guidance_zero_precision_1 = np.where(df['guidance'].astype(str) == guidance_estim, 1, 0)\n"
   ]
  },
  {
   "cell_type": "code",
   "execution_count": 90,
   "id": "a77f433c",
   "metadata": {},
   "outputs": [],
   "source": [
    "evaluative_estim, corrective_estim, guidance_estim = interpret_examples(client, df['instance']) \n",
    "\n",
    "evaluative_zero_precision_2 = np.where(df['evaluative'].astype(str) == evaluative_estim, 1, 0)\n",
    "corrective_zero_precision_2 = np.where(df['corrective'].astype(str) == corrective_estim, 1, 0)\n",
    "guidance_zero_precision_2 = np.where(df['guidance'].astype(str) == guidance_estim, 1, 0)\n"
   ]
  },
  {
   "cell_type": "code",
   "execution_count": 91,
   "id": "b847588b",
   "metadata": {},
   "outputs": [],
   "source": [
    "evaluative_zero_precision = (evaluative_zero_precision_0 + evaluative_zero_precision_1 + evaluative_zero_precision_2) / 3\n",
    "evaluative_zero_precision_mean = evaluative_zero_precision.mean()\n",
    "evaluative_zero_precision_std = evaluative_zero_precision.std()"
   ]
  },
  {
   "cell_type": "code",
   "execution_count": 92,
   "id": "b3b2d82e",
   "metadata": {},
   "outputs": [],
   "source": [
    "corrective_zero_precision = (corrective_zero_precision_0 + corrective_zero_precision_1 + corrective_zero_precision_2) / 3\n",
    "corrective_zero_precision_mean = corrective_zero_precision.mean()\n",
    "corrective_zero_precision_std = corrective_zero_precision.std()"
   ]
  },
  {
   "cell_type": "code",
   "execution_count": 103,
   "id": "1d0f03af",
   "metadata": {},
   "outputs": [],
   "source": [
    "guidance_zero_precision = (guidance_zero_precision_0 + guidance_zero_precision_1 + guidance_zero_precision_2) / 3\n",
    "guidance_zero_precision_mean = guidance_zero_precision.mean()\n",
    "guidance_zero_precision_std = guidance_zero_precision.std()"
   ]
  },
  {
   "cell_type": "code",
   "execution_count": 104,
   "id": "a3f0403e",
   "metadata": {},
   "outputs": [
    {
     "data": {
      "text/plain": [
       "0.7333333333333333"
      ]
     },
     "execution_count": 104,
     "metadata": {},
     "output_type": "execute_result"
    }
   ],
   "source": [
    "corrective_zero_precision_mean"
   ]
  },
  {
   "cell_type": "code",
   "execution_count": 195,
   "id": "1f0fffb1",
   "metadata": {},
   "outputs": [
    {
     "data": {
      "image/png": "[encoded data removed]",
      "text/plain": [
       "<Figure size 288x216 with 1 Axes>"
      ]
     },
     "metadata": {
      "needs_background": "light"
     },
     "output_type": "display_data"
    }
   ],
   "source": [
    "# Example data\n",
    "categories = ['Evaluative', 'Corrective', 'Guidance']\n",
    "few_means = [evaluative_few_precision_mean, corrective_few_precision_mean, guidance_few_precision_mean]  # Means for Model 1 in each category\n",
    "zero_means = [evaluative_zero_precision_mean,corrective_zero_precision_mean, guidance_zero_precision_mean]  # Means for Model 2 in each category\n",
    "few_std = [evaluative_few_precision_std, corrective_few_precision_std, guidance_few_precision_std]  # Standard deviations for Model 1\n",
    "zero_std = [evaluative_zero_precision_std, corrective_zero_precision_std, guidance_zero_precision_std]  # Standard deviations for Model 2\n",
    "\n",
    "# Create figure and axis\n",
    "fig, ax = plt.subplots(figsize=(4, 3))\n",
    "\n",
    "\n",
    "# Setting the positions and width for the bars\n",
    "pos = np.arange(len(categories))\n",
    "bar_width = 0.35  # Width of bars\n",
    "\n",
    "# Plotting the bars for each model with error bars\n",
    "bars1 = ax.bar(pos - bar_width/2, few_means, bar_width, color=(0.53, 0.337, 0.655, 1))\n",
    "bars2 = ax.bar(pos + bar_width/2, zero_means, bar_width, color=(0.62, 0.737, 0.855, 1))\n",
    "\n",
    "labels = [\"Few-shot\", \"Zero-shot\"]\n",
    "\n",
    "fig.legend(labels=labels,   # The labels for each line\n",
    "           borderaxespad=1,    # Small spacing around legend box\n",
    "           ncol=2, # Title for the legend\n",
    "           fancybox=True,\n",
    "           bbox_to_anchor=(0.85, 0),\n",
    "           bbox_transform=fig.transFigure\n",
    "           )\n",
    "\n",
    "ax.set_title('Few Vs Zero-shot prompting')\n",
    "ax.set_ylabel('Accuracy')\n",
    "ax.set_xticks(pos)\n",
    "ax.set_xticklabels(categories)\n",
    "#ax.legend()\n",
    "\n",
    "# Show the plot\n",
    "plt.show()\n",
    "fig.savefig(\"fewVSzero.pdf\",bbox_inches='tight')"
   ]
  },
  {
   "cell_type": "markdown",
   "id": "0a181543",
   "metadata": {},
   "source": [
    "### Prompt rewording"
   ]
  },
  {
   "cell_type": "code",
   "execution_count": 129,
   "id": "c8e13607",
   "metadata": {},
   "outputs": [],
   "source": [
    "prompt = (\"In a discrete Markov Decision Process (MDP) framework simulating a grid-like environment, you are tasked with guiding an agent. This agent's objective is to navigate through the grid to pick up and place a cube at a designated spot.\"\n",
    "          \"The agent is equipped with a predefined set of actions: \"\n",
    "          \"Available Actions: The agent can execute the following moves - move up (action 0), move down (action 1), move left (action 2), move right (action 3), pick up the cube (action 4), and place the cube down (action 5).\"\n",
    "          \"Your role involves translating natural language feedback related to the agent's previous actions into a structured format, encompassing evaluative feedback, corrective feedback, and suggestions for future actions. It's important to take into account the feedback's current context as well as any pertinent feedback from past actions.\"\n",
    "          \"Structure your analysis as follows:\"\n",
    "          \"Evaluative: Rate the feedback sentiment numerically: +1 for positive feedback (signifying the action was appropriate or correct), -1 for negative feedback (indicating the action was inappropriate or incorrect), and 0 for neutral feedback or if there's no clear evaluative feedback.\"\n",
    "          \"Corrective: If a previous action was mistaken, identify the correct action that should have been executed, using the action numbers (0, 1, 2, 3, 4, 5). This feedback should only relate to the prior action. If the feedback's sentiment is positive or neutral, or it doesn't suggest an alternate action, label the corrective feedback as None.\"\n",
    "          \"Advice: Suggest the next step the agent should take, selecting from the action options (0, 1, 2, 3, 4, 5). If the feedback doesn't suggest a specific next action or focuses only on rectifying a past error without recommending a subsequent step, indicate the advice as None.\"\n",
    "          \"Your response should be formatted as: 'Evaluative={value} \\n Corrective={value} \\n Advice={value}'\"\n",
    "          \"Example:\"\\\n",
    "          \"Given Feedback: \"\"Action=0, No, turn left  \"\"\"\\\n",
    "          \"Evaluative=-1 \\n Corrective=None (no correction for past action) \\n Advice=2\" \\\n",
    "          \"Given Feedback: \"\"Action=1, Now go up \"\"\"\\\n",
    "          \"Evaluative=0 \\n Corrective=None \\n Advice=0\"\\\n",
    "          \"Given Feedback: \"\"Action=0, yes ,turn left\"\"\"\\\n",
    "          \"Evaluative=1 \\n Corrective=None \\n Advice=2\"\\\n",
    "          \"Given Feedback: \"\"Action=0, No, you should have turned left\"\"\"\\\n",
    "          \"Evaluative=-1 \\n Corrective=2 \\n Advice=None (no advice for next action is given)\"\\\n",
    "          \"Given Feedback: \"\"Action=4, Yeah!\"\"\"\\\n",
    "          \"Evaluative=1 \\n Corrective=0 \\n Advice=None (no advice for next action is given)\"\\\n",
    "          \"Given Feedback: \"\"Action=1, Continue like this!\"\"\"\\\n",
    "          \"Evaluative=1 \\n Corrective=0 \\n Advice=1 (same as previous action)\")\n"
   ]
  },
  {
   "cell_type": "code",
   "execution_count": 130,
   "id": "e6622cb4",
   "metadata": {},
   "outputs": [],
   "source": [
    "evaluative_estim, corrective_estim, guidance_estim = interpret_examples(client, df['instance']) \n",
    "\n",
    "evaluative_reworded_precision_0 = np.where(df['evaluative'].astype(str) == evaluative_estim, 1, 0)\n",
    "corrective_reworded_precision_0 = np.where(df['corrective'].astype(str) == corrective_estim, 1, 0)\n",
    "guidance_reworded_precision_0 = np.where(df['guidance'].astype(str) == guidance_estim, 1, 0)\n"
   ]
  },
  {
   "cell_type": "code",
   "execution_count": 131,
   "id": "b47e15f4",
   "metadata": {},
   "outputs": [],
   "source": [
    "evaluative_estim, corrective_estim, guidance_estim = interpret_examples(client, df['instance']) \n",
    "\n",
    "evaluative_reworded_precision_1 = np.where(df['evaluative'].astype(str) == evaluative_estim, 1, 0)\n",
    "corrective_reworded_precision_1 = np.where(df['corrective'].astype(str) == corrective_estim, 1, 0)\n",
    "guidance_reworded_precision_1 = np.where(df['guidance'].astype(str) == guidance_estim, 1, 0)\n"
   ]
  },
  {
   "cell_type": "code",
   "execution_count": 132,
   "id": "b8055a5a",
   "metadata": {},
   "outputs": [],
   "source": [
    "evaluative_estim, corrective_estim, guidance_estim = interpret_examples(client, df['instance']) \n",
    "\n",
    "evaluative_reworded_precision_2 = np.where(df['evaluative'].astype(str) == evaluative_estim, 1, 0)\n",
    "corrective_reworded_precision_2 = np.where(df['corrective'].astype(str) == corrective_estim, 1, 0)\n",
    "guidance_reworded_precision_2 = np.where(df['guidance'].astype(str) == guidance_estim, 1, 0)\n"
   ]
  },
  {
   "cell_type": "code",
   "execution_count": 133,
   "id": "6470513d",
   "metadata": {},
   "outputs": [],
   "source": [
    "evaluative_reworded_precision = (evaluative_reworded_precision_0 + evaluative_reworded_precision_1 + evaluative_reworded_precision_2) / 3\n",
    "evaluative_reworded_precision_mean = evaluative_reworded_precision.mean()\n",
    "evaluative_reworded_precision_std = evaluative_reworded_precision.std()"
   ]
  },
  {
   "cell_type": "code",
   "execution_count": 134,
   "id": "1249eb3a",
   "metadata": {},
   "outputs": [],
   "source": [
    "corrective_reworded_precision = (corrective_reworded_precision_0 + corrective_reworded_precision_1 + corrective_reworded_precision_2) / 3\n",
    "corrective_reworded_precision_mean = corrective_reworded_precision.mean()\n",
    "corrective_reworded_precision_std = corrective_reworded_precision.std()"
   ]
  },
  {
   "cell_type": "code",
   "execution_count": 135,
   "id": "d6bfb62a",
   "metadata": {},
   "outputs": [],
   "source": [
    "guidance_reworded_precision = (guidance_reworded_precision_0 + guidance_reworded_precision_1 + guidance_reworded_precision_2) / 3\n",
    "guidance_reworded_precision_mean = guidance_reworded_precision.mean()\n",
    "guidance_reworded_precision_std = guidance_reworded_precision.std()"
   ]
  },
  {
   "cell_type": "code",
   "execution_count": 197,
   "id": "f4daa8b8",
   "metadata": {},
   "outputs": [
    {
     "data": {
      "image/png": "[encoded data removed]",
      "text/plain": [
       "<Figure size 288x216 with 1 Axes>"
      ]
     },
     "metadata": {
      "needs_background": "light"
     },
     "output_type": "display_data"
    }
   ],
   "source": [
    "categories = ['Evaluative', 'Corrective', 'Guidance']\n",
    "few_means = [evaluative_few_precision_mean, corrective_few_precision_mean, guidance_few_precision_mean]  # Means for Model 1 in each category\n",
    "reworded_means = [evaluative_reworded_precision_mean,corrective_reworded_precision_mean, guidance_reworded_precision_mean]  # Means for Model 2 in each category\n",
    "# few_std = [evaluative_few_precision_std, corrective_few_precision_std, guidance_few_precision_std]  # Standard deviations for Model 1\n",
    "# reworded_std = [evaluative_reworded_precision_std, corrective_reworded_precision_std, guidance_reworded_precision_std]  # Standard deviations for Model 2\n",
    "\n",
    "# Create figure and axis\n",
    "fig, ax = plt.subplots(figsize=(4, 3))\n",
    "\n",
    "\n",
    "# Setting the positions and width for the bars\n",
    "pos = np.arange(len(categories))\n",
    "bar_width = 0.35  # Width of bars\n",
    "\n",
    "# Plotting the bars for each model with error bars\n",
    "bars1 = ax.bar(pos - bar_width/2, few_means, bar_width, color=(0.17, 0.498, 0.72, 1))\n",
    "bars2 = ax.bar(pos + bar_width/2, reworded_means, bar_width, color=(0.62, 0.737, 0.855, 1))\n",
    "\n",
    "labels = [\"Default\", \"Reworded\"]\n",
    "\n",
    "fig.legend(labels=labels,   # The labels for each line\n",
    "           borderaxespad=1,    # Small spacing around legend box\n",
    "           ncol=2, # Title for the legend\n",
    "           fancybox=True,\n",
    "           bbox_to_anchor=(0.85, 0),\n",
    "           bbox_transform=fig.transFigure\n",
    "           )\n",
    "\n",
    "ax.set_title('Prompt rewording')\n",
    "ax.set_ylabel('Accuracy')\n",
    "ax.set_xticks(pos)\n",
    "ax.set_xticklabels(categories)\n",
    "#ax.legend()\n",
    "\n",
    "# Show the plot\n",
    "plt.show()\n",
    "fig.savefig(\"rewording.pdf\",bbox_inches='tight')"
   ]
  },
  {
   "cell_type": "markdown",
   "id": "cbb0dc59",
   "metadata": {},
   "source": [
    "### Different languages"
   ]
  },
  {
   "cell_type": "code",
   "execution_count": 138,
   "id": "69e1eecf",
   "metadata": {},
   "outputs": [],
   "source": [
    "prompt = (\"You are working with a discrete Markov Decision Process (MDP) environment that simulates a gridworld. The agent navigates this grid to pick a cube and place it in a specific location. The agent has a set of actions available: \\\\\"\n",
    "          \"Action Space: The agent can move up (action 0), down (action 1), left (action 2), or right (action 3), pick up the cube (action 4), and put down the cube (action 5).)\"\n",
    "          \"Your task is to interpret natural language feedback given in response to the agent's past actions, converting this feedback into a structured format for each variable: evaluative feedback, corrective feedback, and advice for future actions. It's crucial to consider both the current feedback and any relevant past feedback when making your interpretations.\"\n",
    "          \"Here’s how to structure your responses:\"\n",
    "          \"Evaluative: Assign a numerical value based on the sentiment of the feedback:) +1 for positive feedback (indicating the action was good or correct). -1 for negative feedback (indicating the action was bad or incorrect). 0 if the feedback is neutral or if no explicit evaluative feedback is given.\"\n",
    "           \"Corrective: If the past action was incorrect, specify the action that should have been taken instead, choosing from the defined action space (0, 1, 2, 3, 4, 5). This feedback is focused on the past action only. If the sentiment of the feedback is correct or neutral, or no alternative action is implied, corrective feedback should be None. \"\n",
    "          \"Advice: Provide a suggestion for the next action the agent should take by assiging the correspondant value from the action space choosing from the defined action space (0, 1, 2, 3, 4, 5) . If the feedback does not imply a specific next action or is focused solely on correcting a past mistake without suggesting a next move, Advice should be None.\"\n",
    "          \"The output should follow the following format: 'Evaluative={value} \\n Corrective={value} \\n Advice={value}'\" \n",
    "          \"Example:\"\\\n",
    "          \"Given Feedback: \"\"Action=0, No, turn left  \"\"\"\\\n",
    "          \"Evaluative=-1 \\n Corrective=None (no correction for past action) \\n Advice=2\" \\\n",
    "          \"Given Feedback: \"\"Action=1, Now go up \"\"\"\\\n",
    "          \"Evaluative=0 \\n Corrective=None \\n Advice=0\"\\\n",
    "          \"Given Feedback: \"\"Action=0, yes ,turn left\"\"\"\\\n",
    "          \"Evaluative=1 \\n Corrective=None \\n Advice=2\"\\\n",
    "          \"Given Feedback: \"\"Action=0, No, you should have turned left\"\"\"\\\n",
    "          \"Evaluative=-1 \\n Corrective=2 \\n Advice=None (no advice for next action is given)\"\\\n",
    "          \"Given Feedback: \"\"Action=4, Yeah!\"\"\"\\\n",
    "          \"Evaluative=1 \\n Corrective=0 \\n Advice=None (no advice for next action is given)\"\\\n",
    "          \"Given Feedback: \"\"Action=1, Continue like this!\"\"\"\\\n",
    "          \"Evaluative=1 \\n Corrective=0 \\n Advice=1 (same as previous action)\")\n"
   ]
  },
  {
   "cell_type": "markdown",
   "id": "b8c10d8d",
   "metadata": {},
   "source": [
    "#### French"
   ]
  },
  {
   "cell_type": "code",
   "execution_count": 139,
   "id": "a2326d5d",
   "metadata": {},
   "outputs": [],
   "source": [
    "df = pd.read_excel('datasets/examples_french.xlsx')"
   ]
  },
  {
   "cell_type": "code",
   "execution_count": 140,
   "id": "2a4ff63b",
   "metadata": {},
   "outputs": [],
   "source": [
    "evaluative_estim, corrective_estim, guidance_estim = interpret_examples(client, df['instance']) \n",
    "\n",
    "evaluative_french_precision = np.where(df['evaluative'].astype(str) == evaluative_estim, 1, 0)\n",
    "corrective_french_precision = np.where(df['corrective'].astype(str) == corrective_estim, 1, 0)\n",
    "guidance_french_precision = np.where(df['guidance'].astype(str) == guidance_estim, 1, 0)\n"
   ]
  },
  {
   "cell_type": "markdown",
   "id": "7385160e",
   "metadata": {},
   "source": [
    "#### Arabic"
   ]
  },
  {
   "cell_type": "code",
   "execution_count": 145,
   "id": "d06bb1ad",
   "metadata": {},
   "outputs": [],
   "source": [
    "df = pd.read_excel('datasets/examples_arabic.xlsx')"
   ]
  },
  {
   "cell_type": "code",
   "execution_count": 146,
   "id": "bfca193d",
   "metadata": {},
   "outputs": [],
   "source": [
    "evaluative_estim, corrective_estim, guidance_estim = interpret_examples(client, df['instance']) \n",
    "\n",
    "evaluative_arabic_precision = np.where(df['evaluative'].astype(str) == evaluative_estim, 1, 0)\n",
    "corrective_arabic_precision = np.where(df['corrective'].astype(str) == corrective_estim, 1, 0)\n",
    "guidance_arabic_precision = np.where(df['guidance'].astype(str) == guidance_estim, 1, 0)\n"
   ]
  },
  {
   "cell_type": "markdown",
   "id": "1433a5ee",
   "metadata": {},
   "source": [
    "#### Italian"
   ]
  },
  {
   "cell_type": "code",
   "execution_count": 157,
   "id": "a73c77e3",
   "metadata": {},
   "outputs": [],
   "source": [
    "df = pd.read_excel('datasets/examples_italian.xlsx')"
   ]
  },
  {
   "cell_type": "code",
   "execution_count": 158,
   "id": "fe19edc7",
   "metadata": {},
   "outputs": [],
   "source": [
    "evaluative_estim, corrective_estim, guidance_estim = interpret_examples(client, df['instance']) \n",
    "\n",
    "evaluative_italian_precision = np.where(df['evaluative'].astype(str) == evaluative_estim, 1, 0)\n",
    "corrective_italian_precision = np.where(df['corrective'].astype(str) == corrective_estim, 1, 0)\n",
    "guidance_italian_precision = np.where(df['guidance'].astype(str) == guidance_estim, 1, 0)"
   ]
  },
  {
   "cell_type": "markdown",
   "id": "04c85d50",
   "metadata": {},
   "source": [
    "#### Spanish"
   ]
  },
  {
   "cell_type": "code",
   "execution_count": 160,
   "id": "4116f8a5",
   "metadata": {},
   "outputs": [],
   "source": [
    "df = pd.read_excel('datasets/examples_spanish.xlsx')"
   ]
  },
  {
   "cell_type": "code",
   "execution_count": 161,
   "id": "a45e9190",
   "metadata": {},
   "outputs": [],
   "source": [
    "evaluative_estim, corrective_estim, guidance_estim = interpret_examples(client, df['instance']) \n",
    "\n",
    "evaluative_spanish_precision = np.where(df['evaluative'].astype(str) == evaluative_estim, 1, 0)\n",
    "corrective_spanish_precision = np.where(df['corrective'].astype(str) == corrective_estim, 1, 0)\n",
    "guidance_spanish_precision = np.where(df['guidance'].astype(str) == guidance_estim, 1, 0)"
   ]
  },
  {
   "cell_type": "code",
   "execution_count": 199,
   "id": "029e71dc",
   "metadata": {},
   "outputs": [
    {
     "data": {
      "image/png": "[encoded data removed]",
      "text/plain": [
       "<Figure size 432x216 with 1 Axes>"
      ]
     },
     "metadata": {
      "needs_background": "light"
     },
     "output_type": "display_data"
    }
   ],
   "source": [
    "\n",
    "languages = ['English', 'Arabic', 'French', 'Italian', 'Spanish']\n",
    "evaluative_means = [evaluative_few_precision_0.mean(), evaluative_arabic_precision.mean(), evaluative_french_precision.mean(), evaluative_italian_precision.mean(), evaluative_spanish_precision.mean()]  # Evaluative means for each language\n",
    "corrective_means = [corrective_few_precision_0.mean(), corrective_arabic_precision.mean(), corrective_french_precision.mean(), corrective_italian_precision.mean(), corrective_spanish_precision.mean()]  # corrective means for each language\n",
    "guidance_means = [guidance_few_precision_0.mean(), guidance_arabic_precision.mean(), guidance_french_precision.mean(), guidance_italian_precision.mean(), guidance_spanish_precision.mean()]  # guidance means for each language\n",
    "\n",
    "# Standard deviations for each category (for demonstration)\n",
    "evaluative_stds = [evaluative_few_precision_0.std(), evaluative_arabic_precision.std(), evaluative_french_precision.std(), evaluative_italian_precision.std(), evaluative_spanish_precision.std()]  # Evaluative stds for each language\n",
    "corrective_stds = [corrective_few_precision_0.std(), corrective_arabic_precision.std(), corrective_french_precision.std(), corrective_italian_precision.std(), corrective_spanish_precision.std()]  # corrective stds for each language\n",
    "guidance_stds = [guidance_few_precision_0.std(), guidance_arabic_precision.std(), guidance_french_precision.std(), guidance_italian_precision.std(), guidance_spanish_precision.std()]  # guidance stds for each language\n",
    "\n",
    "\n",
    "# Setting up the figure and axes\n",
    "fig, ax = plt.subplots(figsize=(6, 3))\n",
    "\n",
    "# Setting the positions and width for the bars\n",
    "bar_width = 0.25  # Width of bars\n",
    "# Calculating the positions for the groups\n",
    "index = np.arange(len(languages))\n",
    "\n",
    "# Plotting the bars for each evaluation type\n",
    "bars1 = ax.bar(index - bar_width, evaluative_means, bar_width, yerr=evaluative_stds,\n",
    "               capsize=5, label='Evaluative', color=(0.17, 0.498, 0.72, 1))\n",
    "bars2 = ax.bar(index, corrective_means, bar_width, yerr=corrective_stds,\n",
    "               capsize=5, label='Corrective', color=(0.498, 0.8, 0.73, 1))\n",
    "bars3 = ax.bar(index + bar_width, guidance_means, bar_width, yerr=guidance_stds,\n",
    "               capsize=5, label='Guidance', color=(0.93, 0.97, 0.69, 1))\n",
    "\n",
    "# Adding some final touches\n",
    "ax.set_ylabel('Accuracy')\n",
    "ax.set_title('Language robustness')\n",
    "ax.set_xticks(index)\n",
    "ax.set_xticklabels(languages)\n",
    "#ax.legend()\n",
    "\n",
    "labels = [\"Evaluative\", \"Corrective\", \"Guidance\"]\n",
    "\n",
    "fig.legend(labels=labels,   # The labels for each line\n",
    "           borderaxespad=1,    # Small spacing around legend box\n",
    "           ncol=3, # Title for the legend\n",
    "           fancybox=True,\n",
    "           bbox_to_anchor=(0.85, 0),\n",
    "           bbox_transform=fig.transFigure\n",
    "           )\n",
    "\n",
    "# Show the plot\n",
    "plt.show()\n",
    "fig.savefig(\"language.pdf\",bbox_inches='tight')"
   ]
  }
 ],
 "metadata": {
  "kernelspec": {
   "display_name": "Python 3 (ipykernel)",
   "language": "python",
   "name": "python3"
  },
  "language_info": {
   "codemirror_mode": {
    "name": "ipython",
    "version": 3
   },
   "file_extension": ".py",
   "mimetype": "text/x-python",
   "name": "python",
   "nbconvert_exporter": "python",
   "pygments_lexer": "ipython3",
   "version": "3.8.10"
  }
 },
 "nbformat": 4,
 "nbformat_minor": 5
}
